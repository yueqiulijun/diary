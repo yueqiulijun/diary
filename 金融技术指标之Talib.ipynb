{
 "cells": [
  {
   "cell_type": "markdown",
   "metadata": {},
   "source": [
    "## 金融技术指标之Talib\n",
    "\n",
    "Talib是Python中用于金融市场数据处理的一个强大第三方库，它基于Cython开发。Talib被广泛应用于量化交易之中，其功能主要是对金融市场的行情数据进行技术分析。它完全开源，支持C/C++、Java、Perl、Python等多类编程语言，包含150多个技术指标如ADX、MACD、RSI、KDJ等等，并且它能够对k线形态进行分析识别。\n",
    "作为一个优秀的技术指标计算工具库，其支持10类指标的计算，分别为：\n",
    "- Overlap Studies 重叠指标\n",
    "- Volume Indicators(交易量指标)\n",
    "- Momentum Indicators(动量指标)\n",
    "- Cycle Indicators(周期指标)\n",
    "- Price Transform(价格变换)\n",
    "- Volatility Indicators(波动率指标)\n",
    "- Pattern Recognition(模式识别)\n",
    "- Statistic Functions(统计函数)\n",
    "- Math Transform(数学变换)\n",
    "- Math Operators(数学运算)\n",
    "\n",
    "最后要注意的是Talib库的函数所接受的参数类型一般都是NumPy的数组array，接下来我们就选取以上几类经典指标进行详细讲解。\n"
   ]
  },
  {
   "cell_type": "markdown",
   "metadata": {},
   "source": [
    "---\n",
    "## 1. 重叠指标"
   ]
  },
  {
   "cell_type": "markdown",
   "metadata": {},
   "source": [
    "### 1.1 N日简单移动平均线（SMA）\n",
    "调用方法：talib.SMA(close,timeperiod=N)"
   ]
  },
  {
   "cell_type": "code",
   "execution_count": 3,
   "metadata": {
    "scrolled": true
   },
   "outputs": [
    {
     "data": {
      "text/plain": [
       "array([    nan,     nan,     nan,     nan,     nan,     nan,     nan,\n",
       "           nan,     nan,     nan,     nan,     nan,     nan,     nan,\n",
       "           nan,     nan,     nan,     nan,     nan, 29.8095, 29.8105,\n",
       "       29.8185, 29.8465, 29.843 , 29.867 , 29.9275, 29.976 , 30.005 ,\n",
       "       30.0645, 30.0415, 30.0905, 30.2295, 30.2205, 30.224 , 30.1685,\n",
       "       30.108 , 30.087 , 30.126 , 30.2295, 30.1885, 30.2295, 30.2005,\n",
       "       30.2195, 30.2085, 30.176 , 30.1305, 30.1225, 30.017 , 29.982 ,\n",
       "       30.0255])"
      ]
     },
     "execution_count": 3,
     "metadata": {},
     "output_type": "execute_result"
    }
   ],
   "source": [
    "import talib\n",
    "import pandas as pd\n",
    "import numpy as np\n",
    "close=np.round(np.random.normal(loc=30,scale=0.6,size=50),2)\n",
    "talib.SMA(close,timeperiod=20)  "
   ]
  },
  {
   "cell_type": "markdown",
   "metadata": {},
   "source": [
    "### 1.2 N日指数移动平均线（EMA）\n",
    "调用方法：talib.EMA(close,timeperiod=N)"
   ]
  },
  {
   "cell_type": "code",
   "execution_count": 1,
   "metadata": {
    "scrolled": true
   },
   "outputs": [
    {
     "data": {
      "text/plain": [
       "array([nan, nan, nan, nan, nan, nan, nan, nan, nan, nan, nan, nan, nan,\n",
       "       nan, nan, nan, nan, nan, nan, 30.049500000000002,\n",
       "       30.065738095238096, 30.095667800453516, 30.054175628981753,\n",
       "       29.902349378602537, 29.947839913973723, 29.993759922166703,\n",
       "       30.034354215293682, 30.074891909075237, 30.108711727258548,\n",
       "       30.02692965799583, 30.00246016675813, 30.035559198495452,\n",
       "       30.080744036733982, 30.057816033235508, 29.998976411022603,\n",
       "       30.016216752829976, 30.02419610970331, 29.97903457544585,\n",
       "       29.941031282546245, 29.99236163658946, 30.10642243310475,\n",
       "       30.09628696328525, 30.11568820487713, 30.227527423460263,\n",
       "       30.297286716464047, 30.2851641720389, 30.306577108035196,\n",
       "       30.27547452631756, 30.23304838095398, 30.14990091610122])"
      ]
     },
     "execution_count": 1,
     "metadata": {},
     "output_type": "execute_result"
    }
   ],
   "source": [
    "import talib\n",
    "close=np.round(np.random.normal(loc=30,scale=0.6,size=50),2)\n",
    "talib.EMA(close,timeperiod=20)  "
   ]
  },
  {
   "cell_type": "markdown",
   "metadata": {},
   "source": [
    "### 1.3 平滑异同移动平均线（MACD）\n",
    "调用方法：talib.MACD(close,fastperiod=12,lowperiod=26,signalperiod=9)\n",
    "\n",
    "将返回macd（快线DIF）、macdsignal（慢线DEA）和macdhist（MACD红绿柱）\n"
   ]
  },
  {
   "cell_type": "code",
   "execution_count": 2,
   "metadata": {
    "scrolled": false
   },
   "outputs": [
    {
     "data": {
      "text/plain": [
       "array([nan, nan, nan, nan, nan, nan, nan, nan, nan, nan, nan, nan, nan,\n",
       "       nan, nan, nan, nan, nan, nan, nan, nan, nan, nan, nan, nan, nan,\n",
       "       nan, nan, nan, nan, nan, nan, nan, -0.0070208888929670366,\n",
       "       -0.055647056333921086, -0.03407898744767479, -0.02317432963141286,\n",
       "       -0.05824134325535013, -0.08265861782389905, -0.029052110801263353,\n",
       "       0.06991654411164205, 0.05173054389683429, 0.06082435519410012,\n",
       "       0.14623034005441937, 0.1851526320098884, 0.15051736067004384,\n",
       "       0.14878867388617678, 0.10345948995139764, 0.0548003345614525,\n",
       "       -0.021440318060999886])"
      ]
     },
     "execution_count": 2,
     "metadata": {},
     "output_type": "execute_result"
    }
   ],
   "source": [
    "macd,macdsignal,macdhist = talib.MACD(close,fastperiod=12,slowperiod=26,signalperiod=9)\n",
    "macd"
   ]
  },
  {
   "cell_type": "code",
   "execution_count": 3,
   "metadata": {},
   "outputs": [
    {
     "data": {
      "text/plain": [
       "array([nan, nan, nan, nan, nan, nan, nan, nan, nan, nan, nan, nan, nan,\n",
       "       nan, nan, nan, nan, nan, nan, nan, nan, nan, nan, nan, nan, nan,\n",
       "       nan, nan, nan, nan, nan, nan, nan, -0.027184102009967778,\n",
       "       -0.03287669287475844, -0.03311715178934171, -0.03112858735775594,\n",
       "       -0.03655113853727478, -0.04577263439459963, -0.04242852967593237,\n",
       "       -0.019959514918417486, -0.005621503155367129, 0.007667668514526323,\n",
       "       0.03538020282250494, 0.06533468865998164, 0.08237122306199408,\n",
       "       0.09565471322683063, 0.09721566857174403, 0.08873260176968573,\n",
       "       0.0666980178035486])"
      ]
     },
     "execution_count": 3,
     "metadata": {},
     "output_type": "execute_result"
    }
   ],
   "source": [
    "macdsignal"
   ]
  },
  {
   "cell_type": "code",
   "execution_count": 4,
   "metadata": {
    "scrolled": true
   },
   "outputs": [
    {
     "data": {
      "text/plain": [
       "array([nan, nan, nan, nan, nan, nan, nan, nan, nan, nan, nan, nan, nan,\n",
       "       nan, nan, nan, nan, nan, nan, nan, nan, nan, nan, nan, nan, nan,\n",
       "       nan, nan, nan, nan, nan, nan, nan, 0.02016321311700074,\n",
       "       -0.022770363459162647, -0.0009618356583330837,\n",
       "       0.007954257726343079, -0.021690204718075354, -0.03688598342929942,\n",
       "       0.013376418874669019, 0.08987605903005955, 0.05735204705220142,\n",
       "       0.053156686679573795, 0.11085013723191443, 0.11981794334990677,\n",
       "       0.06814613760804976, 0.053133960659346155, 0.006243821379653611,\n",
       "       -0.033932267208233224, -0.08813833586454849])"
      ]
     },
     "execution_count": 4,
     "metadata": {},
     "output_type": "execute_result"
    }
   ],
   "source": [
    "macdhist"
   ]
  },
  {
   "cell_type": "markdown",
   "metadata": {},
   "source": [
    "### 1.4 布林线指标（Bollinger Bands）\n",
    "调用方法：upperband,middleband,lowerband=talib.BBANDS(close,timeperiod=5,nbdevup=2,nbdevdn=2,matype=0)\n"
   ]
  },
  {
   "cell_type": "code",
   "execution_count": 5,
   "metadata": {
    "scrolled": true
   },
   "outputs": [
    {
     "data": {
      "text/plain": [
       "array([nan, nan, nan, nan, 30.837715134538282, 30.865948873919088,\n",
       "       30.998268164793053, 30.829505984528414, 30.589842728405184,\n",
       "       30.444353149034335, 30.443466640013124, 30.951252363352378,\n",
       "       31.32385773000087, 31.51157757047957, 31.546892768461646,\n",
       "       31.547685407290256, 31.309084137851322, 30.73442568053392,\n",
       "       30.692060683587492, 30.550470425515652, 30.674521554335968,\n",
       "       30.638425224778626, 30.640167578155797, 31.102197643096144,\n",
       "       31.279424544127775, 31.376114922983774, 31.39535897414421,\n",
       "       31.600834173298363, 30.475536394925665, 31.146379670807814,\n",
       "       31.032031055402317, 30.998944560151827, 31.026854393161187,\n",
       "       30.84196213728774, 30.768424821583633, 30.830143589676446,\n",
       "       30.729944131900208, 30.405561479197228, 30.383449264408252,\n",
       "       30.698710760293782, 31.404222202054516, 31.392038960424117,\n",
       "       31.380476529402763, 31.661982178061614, 31.7655578607639,\n",
       "       31.533917168252742, 31.48415034450968, 31.554205739543594,\n",
       "       31.09964189614931, 30.7307364852574])"
      ]
     },
     "execution_count": 5,
     "metadata": {},
     "output_type": "execute_result"
    }
   ],
   "source": [
    "upperband,middleband,lowerband = talib.BBANDS(close,timeperiod=5,nbdevup=2,nbdevdn=2,matype=0)\n",
    "upperband"
   ]
  },
  {
   "cell_type": "code",
   "execution_count": 6,
   "metadata": {
    "scrolled": true
   },
   "outputs": [
    {
     "data": {
      "text/plain": [
       "array([nan, nan, nan, nan, 29.875999999999998, 29.887999999999998,\n",
       "       29.953999999999997, 30.182, 30.272, 30.177999999999997,\n",
       "       30.109999999999996, 30.223999999999997, 30.367999999999995,\n",
       "       30.223999999999997, 30.273999999999994, 30.269999999999992,\n",
       "       30.173999999999996, 29.911999999999995, 29.933999999999997,\n",
       "       29.869999999999997, 29.938, 29.927999999999997, 29.923999999999996,\n",
       "       29.735999999999997, 29.819999999999993, 29.861999999999995,\n",
       "       29.869999999999994, 30.029999999999994, 30.423999999999996,\n",
       "       30.197999999999997, 30.065999999999995, 30.052, 30.061999999999994,\n",
       "       29.943999999999996, 29.981999999999992, 30.063999999999993,\n",
       "       30.013999999999992, 29.821999999999992, 29.769999999999992,\n",
       "       29.97799999999999, 30.17999999999999, 30.15999999999999,\n",
       "       30.30999999999999, 30.651999999999994, 30.74799999999999,\n",
       "       30.543999999999993, 30.645999999999994, 30.581999999999994, 30.29,\n",
       "       29.96999999999999])"
      ]
     },
     "execution_count": 6,
     "metadata": {},
     "output_type": "execute_result"
    }
   ],
   "source": [
    "middleband"
   ]
  },
  {
   "cell_type": "code",
   "execution_count": 7,
   "metadata": {
    "scrolled": false
   },
   "outputs": [
    {
     "data": {
      "text/plain": [
       "array([nan, nan, nan, nan, 28.914284865461713, 28.91005112608091,\n",
       "       28.90973183520694, 29.534494015471584, 29.954157271594813,\n",
       "       29.91164685096566, 29.776533359986868, 29.496747636647616,\n",
       "       29.41214226999912, 28.936422429520423, 29.00110723153834,\n",
       "       28.99231459270973, 29.03891586214867, 29.08957431946607,\n",
       "       29.175939316412503, 29.189529574484343, 29.20147844566403,\n",
       "       29.21757477522137, 29.207832421844195, 28.36980235690385,\n",
       "       28.360575455872212, 28.347885077016215, 28.34464102585578,\n",
       "       28.459165826701625, 30.372463605074326, 29.24962032919218,\n",
       "       29.099968944597673, 29.105055439848172, 29.0971456068388,\n",
       "       29.04603786271225, 29.19557517841635, 29.29785641032354,\n",
       "       29.298055868099777, 29.238438520802756, 29.156550735591733,\n",
       "       29.2572892397062, 28.955777797945462, 28.927961039575862,\n",
       "       29.23952347059722, 29.642017821938374, 29.730442139236082,\n",
       "       29.554082831747245, 29.80784965549031, 29.609794260456393,\n",
       "       29.480358103850687, 29.209263514742585])"
      ]
     },
     "execution_count": 7,
     "metadata": {},
     "output_type": "execute_result"
    }
   ],
   "source": [
    "lowerband"
   ]
  },
  {
   "cell_type": "markdown",
   "metadata": {},
   "source": [
    "---\n",
    "## 2. 动量指标"
   ]
  },
  {
   "cell_type": "markdown",
   "metadata": {},
   "source": [
    "### 2.1 变动率指标（Rate Of Change ROC）\n",
    "调用方法：talib.ROC(close,timeperiod=10)\n"
   ]
  },
  {
   "cell_type": "code",
   "execution_count": 8,
   "metadata": {},
   "outputs": [
    {
     "data": {
      "text/plain": [
       "array([30.01, 30.0, 30.17, 29.27, 29.82, 30.16, 29.03, 29.32, 30.67,\n",
       "       29.55, 30.31, 30.84, 29.79, 29.41, 30.21, 29.38, 29.53, 29.31,\n",
       "       29.37, 29.3, 30.48, 29.57, 30.17, 30.1, 30.13, 29.58, 30.71, 30.96,\n",
       "       30.68, 31.3, 29.64, 31.56, 29.87, 29.67, 30.2, 28.99, 30.11, 30.02,\n",
       "       30.83, 30.19, 29.85, 29.56, 30.44, 29.07, 29.05, 31.11, 30.27,\n",
       "       29.18, 29.84, 29.28])"
      ]
     },
     "execution_count": 8,
     "metadata": {},
     "output_type": "execute_result"
    }
   ],
   "source": [
    "close=np.round(np.random.normal(loc=30,scale=0.6,size=50),2)\n",
    "close"
   ]
  },
  {
   "cell_type": "code",
   "execution_count": 10,
   "metadata": {
    "scrolled": true
   },
   "outputs": [
    {
     "data": {
      "text/plain": [
       "array([nan, nan, nan, nan, nan, nan, nan, nan, nan, nan,\n",
       "       0.9996667777407486, 2.8000000000000025, -1.2595293337752778,\n",
       "       0.4783054321831237, 1.3078470824949617, -2.5862068965517238,\n",
       "       1.7223561832586887, -0.03410641200546349, -4.2386697098141575,\n",
       "       -0.8460236886632777, 0.5608709996700822, -4.118028534370943,\n",
       "       1.2755958375293863, 2.3461407684461033, -0.2648129758358264,\n",
       "       0.6807351940095296, 3.995936335929562, 5.629477993858756,\n",
       "       4.460333673816819, 6.8259385665528916, -2.7559055118110187,\n",
       "       6.729793709841059, -0.9943652635068023, -1.4285714285714235,\n",
       "       0.23232658479921398, -1.9945909398242034, -1.953760989905573,\n",
       "       -3.0361757105943243, 0.4889178617992096, -3.5463258785942475,\n",
       "       0.7085020242914908, -6.33713561470215, 1.9082691663876883,\n",
       "       -2.0222446916076886, -3.8079470198675414, 7.312866505691629,\n",
       "       0.5313849219528377, -2.7981345769486965, -3.211157963023026,\n",
       "       -3.014243126863203])"
      ]
     },
     "execution_count": 10,
     "metadata": {},
     "output_type": "execute_result"
    }
   ],
   "source": [
    "talib.ROC(close,10)"
   ]
  },
  {
   "cell_type": "markdown",
   "metadata": {},
   "source": [
    "### 2.2 相对强弱指标（Relative Strength Index RSI）\n",
    "调用方法：talib.RSI(close,timeperiod=14)\n"
   ]
  },
  {
   "cell_type": "code",
   "execution_count": 11,
   "metadata": {
    "scrolled": true
   },
   "outputs": [
    {
     "data": {
      "text/plain": [
       "array([nan, nan, nan, nan, nan, nan, nan, nan, nan, nan, nan, nan, nan,\n",
       "       nan, 51.06609808102345, 46.62324049116501, 47.51200670563182,\n",
       "       46.29447412121479, 46.6956667891309, 46.261471675799214,\n",
       "       54.02254717441484, 48.23680897869987, 51.895016450567056,\n",
       "       51.43828049010425, 51.634743568776095, 47.81546455169538,\n",
       "       55.15478587073772, 56.60877849907885, 54.47832266078863,\n",
       "       58.2271956419058, 47.05394393706952, 57.267744033702385,\n",
       "       48.41455319450265, 47.47910392720641, 50.22381405226521,\n",
       "       44.50545073162965, 50.1618645727269, 49.72327355718266,\n",
       "       53.65110328824927, 50.306898660498256, 48.57466055828903,\n",
       "       47.08540205042643, 51.90418092996856, 45.02910648437619,\n",
       "       44.9355316516612, 55.2506529812165, 51.05108499927277,\n",
       "       46.14919842136181, 49.32225409431916, 46.80236132783196])"
      ]
     },
     "execution_count": 11,
     "metadata": {},
     "output_type": "execute_result"
    }
   ],
   "source": [
    "talib.RSI(close,timeperiod=14)"
   ]
  },
  {
   "cell_type": "markdown",
   "metadata": {},
   "source": [
    "### 2.3 动量（Momentum MOM）\n",
    "调用方法：talib.MOM(close,timeperiod=10)\n"
   ]
  },
  {
   "cell_type": "code",
   "execution_count": 12,
   "metadata": {
    "scrolled": false
   },
   "outputs": [
    {
     "data": {
      "text/plain": [
       "array([nan, nan, nan, nan, nan, nan, nan, nan, nan, nan,\n",
       "       0.29999999999999716, 0.8399999999999999, -0.38000000000000256,\n",
       "       0.14000000000000057, 0.39000000000000057, -0.7800000000000011, 0.5,\n",
       "       -0.010000000000001563, -1.3000000000000007, -0.25,\n",
       "       0.1700000000000017, -1.2699999999999996, 0.38000000000000256,\n",
       "       0.6900000000000013, -0.08000000000000185, 0.1999999999999993,\n",
       "       1.1799999999999997, 1.6500000000000021, 1.3099999999999987, 2.0,\n",
       "       -0.8399999999999999, 1.9899999999999984, -0.3000000000000007,\n",
       "       -0.4299999999999997, 0.07000000000000028, -0.5899999999999999,\n",
       "       -0.6000000000000014, -0.9400000000000013, 0.14999999999999858,\n",
       "       -1.1099999999999994, 0.21000000000000085, -2.0, 0.5700000000000003,\n",
       "       -0.6000000000000014, -1.1499999999999986, 2.120000000000001,\n",
       "       0.16000000000000014, -0.8399999999999999, -0.9899999999999984,\n",
       "       -0.9100000000000001])"
      ]
     },
     "execution_count": 12,
     "metadata": {},
     "output_type": "execute_result"
    }
   ],
   "source": [
    "talib.MOM(close,timeperiod=10)"
   ]
  },
  {
   "cell_type": "markdown",
   "metadata": {},
   "source": [
    "---\n",
    "## 3. 数学运算函数"
   ]
  },
  {
   "cell_type": "markdown",
   "metadata": {},
   "source": [
    "### 3.1 周期内最大值（Highest value over a specified period）\n",
    "调用方法：talib.MAX(close,timeperiod=30)\n"
   ]
  },
  {
   "cell_type": "code",
   "execution_count": 13,
   "metadata": {
    "scrolled": true
   },
   "outputs": [
    {
     "data": {
      "text/plain": [
       "array([nan, nan, nan, nan, nan, nan, nan, nan, nan, nan, nan, nan, nan,\n",
       "       nan, nan, nan, nan, nan, nan, nan, nan, nan, nan, nan, nan, nan,\n",
       "       nan, nan, nan, 31.3, 31.3, 31.56, 31.56, 31.56, 31.56, 31.56,\n",
       "       31.56, 31.56, 31.56, 31.56, 31.56, 31.56, 31.56, 31.56, 31.56,\n",
       "       31.56, 31.56, 31.56, 31.56, 31.56])"
      ]
     },
     "execution_count": 13,
     "metadata": {},
     "output_type": "execute_result"
    }
   ],
   "source": [
    "talib.MAX(close,timeperiod=30)"
   ]
  },
  {
   "cell_type": "markdown",
   "metadata": {},
   "source": [
    "### 3.2 周期内求和（Summation）\n",
    "调用方法：talib.SUM(close,timeperiod=30)\n"
   ]
  },
  {
   "cell_type": "code",
   "execution_count": 14,
   "metadata": {},
   "outputs": [
    {
     "data": {
      "text/plain": [
       "array([nan, nan, nan, nan, nan, nan, nan, nan, nan, nan, nan, nan, nan,\n",
       "       nan, nan, nan, nan, nan, nan, nan, nan, nan, nan, nan, nan, nan,\n",
       "       nan, nan, nan, 899.13, 898.76, 900.3199999999999, 900.02, 900.42,\n",
       "       900.8, 899.63, 900.71, 901.41, 901.57, 902.2100000000002,\n",
       "       901.7500000000002, 900.4700000000001, 901.1200000000002,\n",
       "       900.7800000000003, 899.6200000000002, 901.3500000000003,\n",
       "       902.0900000000003, 901.9600000000003, 902.4300000000003,\n",
       "       902.4100000000003])"
      ]
     },
     "execution_count": 14,
     "metadata": {},
     "output_type": "execute_result"
    }
   ],
   "source": [
    "talib.SUM(close,timeperiod=30)"
   ]
  },
  {
   "cell_type": "code",
   "execution_count": null,
   "metadata": {},
   "outputs": [],
   "source": []
  }
 ],
 "metadata": {
  "kernelspec": {
   "display_name": "Python 3",
   "language": "python",
   "name": "python3"
  },
  "language_info": {
   "codemirror_mode": {
    "name": "ipython",
    "version": 3
   },
   "file_extension": ".py",
   "mimetype": "text/x-python",
   "name": "python",
   "nbconvert_exporter": "python",
   "pygments_lexer": "ipython3",
   "version": "3.6.8"
  },
  "toc": {
   "base_numbering": 1,
   "nav_menu": {},
   "number_sections": false,
   "sideBar": true,
   "skip_h1_title": false,
   "title_cell": "MarkDown菜单",
   "title_sidebar": "Contents",
   "toc_cell": false,
   "toc_position": {},
   "toc_section_display": true,
   "toc_window_display": false
  }
 },
 "nbformat": 4,
 "nbformat_minor": 2
}
