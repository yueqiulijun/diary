{
 "cells": [
  {
   "attachments": {
    "image.png": {
     "image/png": "[encoded data removed]"
    }
   },
   "cell_type": "markdown",
   "metadata": {},
   "source": [
    "# 投资研究功能简介\n",
    "感谢您使用投资研究模块~~\n",
    "\n",
    "投资研究模块基于Ipython Notebook，支持灵活的图表处理、数据处理以及财务数据。\n",
    "\n",
    "投资研究模块支持导入第三方库，您可以根据需要引入。\n",
    "\n",
    "投资研究模块能提供分钟级数据，资源独立、安全性高、性能优越，主要支持Python3。\n",
    "\n",
    "# 操作说明\n",
    "![image.png](attachment:image.png)\n",
    "\n",
    "\n",
    "**1 投资研究新手指引** \n",
    "\n",
    "- 投资研究模块简介，操作说明，常用API示例。 \n",
    "\n",
    "**2 常用操作** \n",
    "\n",
    "- 新建： \n",
    "\n",
    "    - Python 3：新建基于Python 3的notebook。 \n",
    "    \n",
    "    - 文本文件：新建txt文件（可修改文件后缀名，修改为任意文件类型）； \n",
    "\n",
    "    - 文件夹：新建文件夹；  \n",
    "\n",
    "- 上传： \n",
    "\n",
    "    - 上传文件，文件上传后可以在研究和回测中使用。\n"
   ]
  },
  {
   "cell_type": "markdown",
   "metadata": {},
   "source": [
    "# Notebook常用操作\n",
    "\n",
    "* 使用 “Shift+Enter” 运行每个代码块\n",
    "* 使用“?”获取帮助\n",
    "* 使用Tab键补全代码"
   ]
  },
  {
   "cell_type": "code",
   "execution_count": null,
   "metadata": {},
   "outputs": [],
   "source": [
    "#使用“?”获取帮助示例，使用“Shift+Enter”运行；\n",
    "get_price?"
   ]
  },
  {
   "cell_type": "code",
   "execution_count": 2,
   "metadata": {},
   "outputs": [],
   "source": [
    "import pandas as pd\n",
    "pd.DataFrame?"
   ]
  },
  {
   "cell_type": "code",
   "execution_count": 6,
   "metadata": {},
   "outputs": [],
   "source": [
    "#使用Tab键补全函数名\n",
    "get_"
   ]
  },
  {
   "cell_type": "markdown",
   "metadata": {},
   "source": [
    "# 研究相关函数API\n",
    "初始化函数init()\n",
    "\n",
    "行情时间函数handlebar()\n",
    "- ContextInfo对象\n",
    "  - 设定股票池ContextInfo.set_universe()\n",
    "  - 设定交易账号ContextInfo.set_account()\n",
    "  - 设定回测起止时间ContextInfo.start/ContextInfo.end\n",
    "  - 设定回测初始资金ContextInfo.capital()\n",
    "  - 获取股票池中的股票ContextInfo.get_universe()\n",
    "  - 获取当前运行到K线索引号ContextInfo.barpos\n",
    "  - 获取当前图K线数目ContextInfo.time_tick_size\n",
    "  - 获取当前图代码ContextInfo.stockcode\n",
    "  - 根据代码获取名称ContextInfo.get_stock_name()\n",
    "\n",
    "- 获取数据\n",
    "  - 获取最新流通股本ContextInfo.get_last_volume()\n",
    "  - 获取当前K线对应时间的时间戳ContextInfo.get_bar_timetag()\n",
    "  - 获取指数成分股ContextInfo.get_sector()\n",
    "  - 获取行业成分股ContextInfo.get_industry()\n",
    "  - 获取板块成分股ContextInfo.get_stock_list_in_sector()\n",
    "  - 获取策略设定的各种手续费率ContextInfo.get_commission()\n",
    "  - 获取财务数据ContextInfo.get_financial_data()\n",
    "  - 获取历史行情数据ContextInfo.get_history_data()\n",
    "  - 获取当前期货主力合约ContextInfo.get_main_contract()\n",
    "  - 将毫秒时间转换成为日期时间timetag_to_datetime()\n",
    "  - 获取总股数ContextInfo.get_total_share()\n",
    "\n",
    "- 交易函数\n",
    "  - 获取交易明细数据get_trade_detail_data()\n",
    "  - 指定手数交易order_lots()\n",
    "  - 指定价值交易order_value()\n",
    "  - 指定比例交易order_percent()\n",
    "  - 指定目标价值交易order_target_value()\n",
    "  - 指定目标比例交易order_target_percent()\n",
    "  - 指定股数交易order_shares()\n",
    "  - 期货买入开仓buy_open()\n",
    "  - 期货买入开仓（平今优先）buy_close_tdayfirst()\n",
    "  - 期货买入开仓（平昨优先）buy_close_ydayfirst()\n",
    "  - 期货卖出开仓sell_open()\n",
    "  \n",
    "- 更多详见API数据（Python_API.pdf）\n",
    "\n",
    "\n"
   ]
  },
  {
   "cell_type": "code",
   "execution_count": 29,
   "metadata": {},
   "outputs": [],
   "source": [
    "#导入需要的库\n",
    "import pandas as pd\n",
    "import numpy as np"
   ]
  },
  {
   "cell_type": "code",
   "execution_count": 30,
   "metadata": {},
   "outputs": [],
   "source": [
    "#设置全局变量\n",
    "def init(ContextInfo):\n",
    "    #hs300成分股中sh和sz市场各自流通市值最大的前3只股票\n",
    "    ContextInfo.trade_code_list=['000651.SZ','601857.SH','600519.SH','000333.SZ','002415.SZ','000002.SZ']\n",
    "    #设置股票池\n",
    "    ContextInfo.set_universe(ContextInfo.trade_code_list)\n",
    "    #设置交易账户\n",
    "    ContextInfo.accID = '6000000058'"
   ]
  },
  {
   "cell_type": "code",
   "execution_count": 31,
   "metadata": {
    "scrolled": false
   },
   "outputs": [],
   "source": [
    "#获取历史行情数据\n",
    "def handlebar(ContextInfo):\n",
    "    h=ContextInfo.get_market_data(['close','open','high','low'],ContextInfo.trade_code_list,period='1d',count=50)\n",
    "    his=ContextInfo.get_history_data(1,'1m','close','front_ratio')"
   ]
  },
  {
   "cell_type": "code",
   "execution_count": null,
   "metadata": {},
   "outputs": [],
   "source": [
    "#指定股数交易\n",
    "order_shares(k,100,'fix',pc_min,ContextInfo,ContextInfo.accID)\n",
    "#指定目标价值交易\n",
    "order_target_value(k,50000,ContextInfo,ContextInfo.accountid)"
   ]
  },
  {
   "cell_type": "markdown",
   "metadata": {},
   "source": [
    "### pandas和pandas库的使用说明见对应文件。"
   ]
  },
  {
   "cell_type": "code",
   "execution_count": null,
   "metadata": {
    "collapsed": true
   },
   "outputs": [],
   "source": [
    "|"
   ]
  }
 ],
 "metadata": {
  "kernelspec": {
   "display_name": "Python 3",
   "language": "python",
   "name": "python3"
  },
  "language_info": {
   "codemirror_mode": {
    "name": "ipython",
    "version": 3
   },
   "file_extension": ".py",
   "mimetype": "text/x-python",
   "name": "python",
   "nbconvert_exporter": "python",
   "pygments_lexer": "ipython3",
   "version": "3.6.8"
  },
  "toc": {
   "base_numbering": 1,
   "nav_menu": {},
   "number_sections": false,
   "sideBar": true,
   "skip_h1_title": false,
   "title_cell": "MarkDown菜单",
   "title_sidebar": "Contents",
   "toc_cell": false,
   "toc_position": {},
   "toc_section_display": true,
   "toc_window_display": false
  }
 },
 "nbformat": 4,
 "nbformat_minor": 1
}
